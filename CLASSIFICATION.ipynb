{
 "cells": [
  {
   "cell_type": "code",
   "execution_count": 9,
   "metadata": {},
   "outputs": [
    {
     "name": "stdout",
     "output_type": "stream",
     "text": [
      "Training model with n_estimators=50, learning_rate=0.01, max_depth=3\n",
      "Accuracy: 0.8179\n",
      "Training model with n_estimators=50, learning_rate=0.01, max_depth=5\n"
     ]
    },
    {
     "name": "stderr",
     "output_type": "stream",
     "text": [
      "c:\\Users\\HP\\AppData\\Local\\Programs\\Python\\Python310\\lib\\site-packages\\xgboost\\core.py:158: UserWarning: [20:17:15] WARNING: C:\\buildkite-agent\\builds\\buildkite-windows-cpu-autoscaling-group-i-0c55ff5f71b100e98-1\\xgboost\\xgboost-ci-windows\\src\\learner.cc:740: \n",
      "Parameters: { \"use_label_encoder\" } are not used.\n",
      "\n",
      "  warnings.warn(smsg, UserWarning)\n",
      "c:\\Users\\HP\\AppData\\Local\\Programs\\Python\\Python310\\lib\\site-packages\\xgboost\\core.py:158: UserWarning: [20:17:15] WARNING: C:\\buildkite-agent\\builds\\buildkite-windows-cpu-autoscaling-group-i-0c55ff5f71b100e98-1\\xgboost\\xgboost-ci-windows\\src\\learner.cc:740: \n",
      "Parameters: { \"use_label_encoder\" } are not used.\n",
      "\n",
      "  warnings.warn(smsg, UserWarning)\n"
     ]
    },
    {
     "name": "stdout",
     "output_type": "stream",
     "text": [
      "Accuracy: 0.8295\n",
      "Training model with n_estimators=50, learning_rate=0.01, max_depth=7\n"
     ]
    },
    {
     "name": "stderr",
     "output_type": "stream",
     "text": [
      "c:\\Users\\HP\\AppData\\Local\\Programs\\Python\\Python310\\lib\\site-packages\\xgboost\\core.py:158: UserWarning: [20:17:15] WARNING: C:\\buildkite-agent\\builds\\buildkite-windows-cpu-autoscaling-group-i-0c55ff5f71b100e98-1\\xgboost\\xgboost-ci-windows\\src\\learner.cc:740: \n",
      "Parameters: { \"use_label_encoder\" } are not used.\n",
      "\n",
      "  warnings.warn(smsg, UserWarning)\n"
     ]
    },
    {
     "name": "stdout",
     "output_type": "stream",
     "text": [
      "Accuracy: 0.8402\n",
      "Training model with n_estimators=50, learning_rate=0.1, max_depth=3\n"
     ]
    },
    {
     "name": "stderr",
     "output_type": "stream",
     "text": [
      "c:\\Users\\HP\\AppData\\Local\\Programs\\Python\\Python310\\lib\\site-packages\\xgboost\\core.py:158: UserWarning: [20:17:16] WARNING: C:\\buildkite-agent\\builds\\buildkite-windows-cpu-autoscaling-group-i-0c55ff5f71b100e98-1\\xgboost\\xgboost-ci-windows\\src\\learner.cc:740: \n",
      "Parameters: { \"use_label_encoder\" } are not used.\n",
      "\n",
      "  warnings.warn(smsg, UserWarning)\n"
     ]
    },
    {
     "name": "stdout",
     "output_type": "stream",
     "text": [
      "Accuracy: 0.8295\n",
      "Training model with n_estimators=50, learning_rate=0.1, max_depth=5\n"
     ]
    },
    {
     "name": "stderr",
     "output_type": "stream",
     "text": [
      "c:\\Users\\HP\\AppData\\Local\\Programs\\Python\\Python310\\lib\\site-packages\\xgboost\\core.py:158: UserWarning: [20:17:16] WARNING: C:\\buildkite-agent\\builds\\buildkite-windows-cpu-autoscaling-group-i-0c55ff5f71b100e98-1\\xgboost\\xgboost-ci-windows\\src\\learner.cc:740: \n",
      "Parameters: { \"use_label_encoder\" } are not used.\n",
      "\n",
      "  warnings.warn(smsg, UserWarning)\n"
     ]
    },
    {
     "name": "stdout",
     "output_type": "stream",
     "text": [
      "Accuracy: 0.8393\n",
      "Training model with n_estimators=50, learning_rate=0.1, max_depth=7\n"
     ]
    },
    {
     "name": "stderr",
     "output_type": "stream",
     "text": [
      "c:\\Users\\HP\\AppData\\Local\\Programs\\Python\\Python310\\lib\\site-packages\\xgboost\\core.py:158: UserWarning: [20:17:17] WARNING: C:\\buildkite-agent\\builds\\buildkite-windows-cpu-autoscaling-group-i-0c55ff5f71b100e98-1\\xgboost\\xgboost-ci-windows\\src\\learner.cc:740: \n",
      "Parameters: { \"use_label_encoder\" } are not used.\n",
      "\n",
      "  warnings.warn(smsg, UserWarning)\n"
     ]
    },
    {
     "name": "stdout",
     "output_type": "stream",
     "text": [
      "Accuracy: 0.8518\n",
      "Training model with n_estimators=50, learning_rate=0.2, max_depth=3\n"
     ]
    },
    {
     "name": "stderr",
     "output_type": "stream",
     "text": [
      "c:\\Users\\HP\\AppData\\Local\\Programs\\Python\\Python310\\lib\\site-packages\\xgboost\\core.py:158: UserWarning: [20:17:17] WARNING: C:\\buildkite-agent\\builds\\buildkite-windows-cpu-autoscaling-group-i-0c55ff5f71b100e98-1\\xgboost\\xgboost-ci-windows\\src\\learner.cc:740: \n",
      "Parameters: { \"use_label_encoder\" } are not used.\n",
      "\n",
      "  warnings.warn(smsg, UserWarning)\n"
     ]
    },
    {
     "name": "stdout",
     "output_type": "stream",
     "text": [
      "Accuracy: 0.8339\n",
      "Training model with n_estimators=50, learning_rate=0.2, max_depth=5\n"
     ]
    },
    {
     "name": "stderr",
     "output_type": "stream",
     "text": [
      "c:\\Users\\HP\\AppData\\Local\\Programs\\Python\\Python310\\lib\\site-packages\\xgboost\\core.py:158: UserWarning: [20:17:17] WARNING: C:\\buildkite-agent\\builds\\buildkite-windows-cpu-autoscaling-group-i-0c55ff5f71b100e98-1\\xgboost\\xgboost-ci-windows\\src\\learner.cc:740: \n",
      "Parameters: { \"use_label_encoder\" } are not used.\n",
      "\n",
      "  warnings.warn(smsg, UserWarning)\n"
     ]
    },
    {
     "name": "stdout",
     "output_type": "stream",
     "text": [
      "Accuracy: 0.8473\n",
      "Training model with n_estimators=50, learning_rate=0.2, max_depth=7\n"
     ]
    },
    {
     "name": "stderr",
     "output_type": "stream",
     "text": [
      "c:\\Users\\HP\\AppData\\Local\\Programs\\Python\\Python310\\lib\\site-packages\\xgboost\\core.py:158: UserWarning: [20:17:18] WARNING: C:\\buildkite-agent\\builds\\buildkite-windows-cpu-autoscaling-group-i-0c55ff5f71b100e98-1\\xgboost\\xgboost-ci-windows\\src\\learner.cc:740: \n",
      "Parameters: { \"use_label_encoder\" } are not used.\n",
      "\n",
      "  warnings.warn(smsg, UserWarning)\n"
     ]
    },
    {
     "name": "stdout",
     "output_type": "stream",
     "text": [
      "Accuracy: 0.8527\n",
      "Training model with n_estimators=100, learning_rate=0.01, max_depth=3\n"
     ]
    },
    {
     "name": "stderr",
     "output_type": "stream",
     "text": [
      "c:\\Users\\HP\\AppData\\Local\\Programs\\Python\\Python310\\lib\\site-packages\\xgboost\\core.py:158: UserWarning: [20:17:18] WARNING: C:\\buildkite-agent\\builds\\buildkite-windows-cpu-autoscaling-group-i-0c55ff5f71b100e98-1\\xgboost\\xgboost-ci-windows\\src\\learner.cc:740: \n",
      "Parameters: { \"use_label_encoder\" } are not used.\n",
      "\n",
      "  warnings.warn(smsg, UserWarning)\n"
     ]
    },
    {
     "name": "stdout",
     "output_type": "stream",
     "text": [
      "Accuracy: 0.8205\n",
      "Training model with n_estimators=100, learning_rate=0.01, max_depth=5\n"
     ]
    },
    {
     "name": "stderr",
     "output_type": "stream",
     "text": [
      "c:\\Users\\HP\\AppData\\Local\\Programs\\Python\\Python310\\lib\\site-packages\\xgboost\\core.py:158: UserWarning: [20:17:18] WARNING: C:\\buildkite-agent\\builds\\buildkite-windows-cpu-autoscaling-group-i-0c55ff5f71b100e98-1\\xgboost\\xgboost-ci-windows\\src\\learner.cc:740: \n",
      "Parameters: { \"use_label_encoder\" } are not used.\n",
      "\n",
      "  warnings.warn(smsg, UserWarning)\n"
     ]
    },
    {
     "name": "stdout",
     "output_type": "stream",
     "text": [
      "Accuracy: 0.8295\n",
      "Training model with n_estimators=100, learning_rate=0.01, max_depth=7\n"
     ]
    },
    {
     "name": "stderr",
     "output_type": "stream",
     "text": [
      "c:\\Users\\HP\\AppData\\Local\\Programs\\Python\\Python310\\lib\\site-packages\\xgboost\\core.py:158: UserWarning: [20:17:19] WARNING: C:\\buildkite-agent\\builds\\buildkite-windows-cpu-autoscaling-group-i-0c55ff5f71b100e98-1\\xgboost\\xgboost-ci-windows\\src\\learner.cc:740: \n",
      "Parameters: { \"use_label_encoder\" } are not used.\n",
      "\n",
      "  warnings.warn(smsg, UserWarning)\n"
     ]
    },
    {
     "name": "stdout",
     "output_type": "stream",
     "text": [
      "Accuracy: 0.8429\n",
      "Training model with n_estimators=100, learning_rate=0.1, max_depth=3\n"
     ]
    },
    {
     "name": "stderr",
     "output_type": "stream",
     "text": [
      "c:\\Users\\HP\\AppData\\Local\\Programs\\Python\\Python310\\lib\\site-packages\\xgboost\\core.py:158: UserWarning: [20:17:20] WARNING: C:\\buildkite-agent\\builds\\buildkite-windows-cpu-autoscaling-group-i-0c55ff5f71b100e98-1\\xgboost\\xgboost-ci-windows\\src\\learner.cc:740: \n",
      "Parameters: { \"use_label_encoder\" } are not used.\n",
      "\n",
      "  warnings.warn(smsg, UserWarning)\n"
     ]
    },
    {
     "name": "stdout",
     "output_type": "stream",
     "text": [
      "Accuracy: 0.8330\n",
      "Training model with n_estimators=100, learning_rate=0.1, max_depth=5\n"
     ]
    },
    {
     "name": "stderr",
     "output_type": "stream",
     "text": [
      "c:\\Users\\HP\\AppData\\Local\\Programs\\Python\\Python310\\lib\\site-packages\\xgboost\\core.py:158: UserWarning: [20:17:20] WARNING: C:\\buildkite-agent\\builds\\buildkite-windows-cpu-autoscaling-group-i-0c55ff5f71b100e98-1\\xgboost\\xgboost-ci-windows\\src\\learner.cc:740: \n",
      "Parameters: { \"use_label_encoder\" } are not used.\n",
      "\n",
      "  warnings.warn(smsg, UserWarning)\n"
     ]
    },
    {
     "name": "stdout",
     "output_type": "stream",
     "text": [
      "Accuracy: 0.8420\n",
      "Training model with n_estimators=100, learning_rate=0.1, max_depth=7\n"
     ]
    },
    {
     "name": "stderr",
     "output_type": "stream",
     "text": [
      "c:\\Users\\HP\\AppData\\Local\\Programs\\Python\\Python310\\lib\\site-packages\\xgboost\\core.py:158: UserWarning: [20:17:21] WARNING: C:\\buildkite-agent\\builds\\buildkite-windows-cpu-autoscaling-group-i-0c55ff5f71b100e98-1\\xgboost\\xgboost-ci-windows\\src\\learner.cc:740: \n",
      "Parameters: { \"use_label_encoder\" } are not used.\n",
      "\n",
      "  warnings.warn(smsg, UserWarning)\n"
     ]
    },
    {
     "name": "stdout",
     "output_type": "stream",
     "text": [
      "Accuracy: 0.8500\n",
      "Training model with n_estimators=100, learning_rate=0.2, max_depth=3\n"
     ]
    },
    {
     "name": "stderr",
     "output_type": "stream",
     "text": [
      "c:\\Users\\HP\\AppData\\Local\\Programs\\Python\\Python310\\lib\\site-packages\\xgboost\\core.py:158: UserWarning: [20:17:21] WARNING: C:\\buildkite-agent\\builds\\buildkite-windows-cpu-autoscaling-group-i-0c55ff5f71b100e98-1\\xgboost\\xgboost-ci-windows\\src\\learner.cc:740: \n",
      "Parameters: { \"use_label_encoder\" } are not used.\n",
      "\n",
      "  warnings.warn(smsg, UserWarning)\n"
     ]
    },
    {
     "name": "stdout",
     "output_type": "stream",
     "text": [
      "Accuracy: 0.8429\n",
      "Training model with n_estimators=100, learning_rate=0.2, max_depth=5\n"
     ]
    },
    {
     "name": "stderr",
     "output_type": "stream",
     "text": [
      "c:\\Users\\HP\\AppData\\Local\\Programs\\Python\\Python310\\lib\\site-packages\\xgboost\\core.py:158: UserWarning: [20:17:22] WARNING: C:\\buildkite-agent\\builds\\buildkite-windows-cpu-autoscaling-group-i-0c55ff5f71b100e98-1\\xgboost\\xgboost-ci-windows\\src\\learner.cc:740: \n",
      "Parameters: { \"use_label_encoder\" } are not used.\n",
      "\n",
      "  warnings.warn(smsg, UserWarning)\n"
     ]
    },
    {
     "name": "stdout",
     "output_type": "stream",
     "text": [
      "Accuracy: 0.8545\n",
      "Training model with n_estimators=100, learning_rate=0.2, max_depth=7\n"
     ]
    },
    {
     "name": "stderr",
     "output_type": "stream",
     "text": [
      "c:\\Users\\HP\\AppData\\Local\\Programs\\Python\\Python310\\lib\\site-packages\\xgboost\\core.py:158: UserWarning: [20:17:22] WARNING: C:\\buildkite-agent\\builds\\buildkite-windows-cpu-autoscaling-group-i-0c55ff5f71b100e98-1\\xgboost\\xgboost-ci-windows\\src\\learner.cc:740: \n",
      "Parameters: { \"use_label_encoder\" } are not used.\n",
      "\n",
      "  warnings.warn(smsg, UserWarning)\n"
     ]
    },
    {
     "name": "stdout",
     "output_type": "stream",
     "text": [
      "Accuracy: 0.8491\n",
      "Training model with n_estimators=150, learning_rate=0.01, max_depth=3\n"
     ]
    },
    {
     "name": "stderr",
     "output_type": "stream",
     "text": [
      "c:\\Users\\HP\\AppData\\Local\\Programs\\Python\\Python310\\lib\\site-packages\\xgboost\\core.py:158: UserWarning: [20:17:23] WARNING: C:\\buildkite-agent\\builds\\buildkite-windows-cpu-autoscaling-group-i-0c55ff5f71b100e98-1\\xgboost\\xgboost-ci-windows\\src\\learner.cc:740: \n",
      "Parameters: { \"use_label_encoder\" } are not used.\n",
      "\n",
      "  warnings.warn(smsg, UserWarning)\n"
     ]
    },
    {
     "name": "stdout",
     "output_type": "stream",
     "text": [
      "Accuracy: 0.8223\n",
      "Training model with n_estimators=150, learning_rate=0.01, max_depth=5\n"
     ]
    },
    {
     "name": "stderr",
     "output_type": "stream",
     "text": [
      "c:\\Users\\HP\\AppData\\Local\\Programs\\Python\\Python310\\lib\\site-packages\\xgboost\\core.py:158: UserWarning: [20:17:23] WARNING: C:\\buildkite-agent\\builds\\buildkite-windows-cpu-autoscaling-group-i-0c55ff5f71b100e98-1\\xgboost\\xgboost-ci-windows\\src\\learner.cc:740: \n",
      "Parameters: { \"use_label_encoder\" } are not used.\n",
      "\n",
      "  warnings.warn(smsg, UserWarning)\n"
     ]
    },
    {
     "name": "stdout",
     "output_type": "stream",
     "text": [
      "Accuracy: 0.8313\n",
      "Training model with n_estimators=150, learning_rate=0.01, max_depth=7\n"
     ]
    },
    {
     "name": "stderr",
     "output_type": "stream",
     "text": [
      "c:\\Users\\HP\\AppData\\Local\\Programs\\Python\\Python310\\lib\\site-packages\\xgboost\\core.py:158: UserWarning: [20:17:24] WARNING: C:\\buildkite-agent\\builds\\buildkite-windows-cpu-autoscaling-group-i-0c55ff5f71b100e98-1\\xgboost\\xgboost-ci-windows\\src\\learner.cc:740: \n",
      "Parameters: { \"use_label_encoder\" } are not used.\n",
      "\n",
      "  warnings.warn(smsg, UserWarning)\n"
     ]
    },
    {
     "name": "stdout",
     "output_type": "stream",
     "text": [
      "Accuracy: 0.8473\n",
      "Training model with n_estimators=150, learning_rate=0.1, max_depth=3\n"
     ]
    },
    {
     "name": "stderr",
     "output_type": "stream",
     "text": [
      "c:\\Users\\HP\\AppData\\Local\\Programs\\Python\\Python310\\lib\\site-packages\\xgboost\\core.py:158: UserWarning: [20:17:25] WARNING: C:\\buildkite-agent\\builds\\buildkite-windows-cpu-autoscaling-group-i-0c55ff5f71b100e98-1\\xgboost\\xgboost-ci-windows\\src\\learner.cc:740: \n",
      "Parameters: { \"use_label_encoder\" } are not used.\n",
      "\n",
      "  warnings.warn(smsg, UserWarning)\n"
     ]
    },
    {
     "name": "stdout",
     "output_type": "stream",
     "text": [
      "Accuracy: 0.8330\n",
      "Training model with n_estimators=150, learning_rate=0.1, max_depth=5\n"
     ]
    },
    {
     "name": "stderr",
     "output_type": "stream",
     "text": [
      "c:\\Users\\HP\\AppData\\Local\\Programs\\Python\\Python310\\lib\\site-packages\\xgboost\\core.py:158: UserWarning: [20:17:26] WARNING: C:\\buildkite-agent\\builds\\buildkite-windows-cpu-autoscaling-group-i-0c55ff5f71b100e98-1\\xgboost\\xgboost-ci-windows\\src\\learner.cc:740: \n",
      "Parameters: { \"use_label_encoder\" } are not used.\n",
      "\n",
      "  warnings.warn(smsg, UserWarning)\n"
     ]
    },
    {
     "name": "stdout",
     "output_type": "stream",
     "text": [
      "Accuracy: 0.8554\n",
      "Training model with n_estimators=150, learning_rate=0.1, max_depth=7\n"
     ]
    },
    {
     "name": "stderr",
     "output_type": "stream",
     "text": [
      "c:\\Users\\HP\\AppData\\Local\\Programs\\Python\\Python310\\lib\\site-packages\\xgboost\\core.py:158: UserWarning: [20:17:26] WARNING: C:\\buildkite-agent\\builds\\buildkite-windows-cpu-autoscaling-group-i-0c55ff5f71b100e98-1\\xgboost\\xgboost-ci-windows\\src\\learner.cc:740: \n",
      "Parameters: { \"use_label_encoder\" } are not used.\n",
      "\n",
      "  warnings.warn(smsg, UserWarning)\n"
     ]
    },
    {
     "name": "stdout",
     "output_type": "stream",
     "text": [
      "Accuracy: 0.8509\n",
      "Training model with n_estimators=150, learning_rate=0.2, max_depth=3\n"
     ]
    },
    {
     "name": "stderr",
     "output_type": "stream",
     "text": [
      "c:\\Users\\HP\\AppData\\Local\\Programs\\Python\\Python310\\lib\\site-packages\\xgboost\\core.py:158: UserWarning: [20:17:27] WARNING: C:\\buildkite-agent\\builds\\buildkite-windows-cpu-autoscaling-group-i-0c55ff5f71b100e98-1\\xgboost\\xgboost-ci-windows\\src\\learner.cc:740: \n",
      "Parameters: { \"use_label_encoder\" } are not used.\n",
      "\n",
      "  warnings.warn(smsg, UserWarning)\n"
     ]
    },
    {
     "name": "stdout",
     "output_type": "stream",
     "text": [
      "Accuracy: 0.8562\n",
      "Training model with n_estimators=150, learning_rate=0.2, max_depth=5\n"
     ]
    },
    {
     "name": "stderr",
     "output_type": "stream",
     "text": [
      "c:\\Users\\HP\\AppData\\Local\\Programs\\Python\\Python310\\lib\\site-packages\\xgboost\\core.py:158: UserWarning: [20:17:28] WARNING: C:\\buildkite-agent\\builds\\buildkite-windows-cpu-autoscaling-group-i-0c55ff5f71b100e98-1\\xgboost\\xgboost-ci-windows\\src\\learner.cc:740: \n",
      "Parameters: { \"use_label_encoder\" } are not used.\n",
      "\n",
      "  warnings.warn(smsg, UserWarning)\n"
     ]
    },
    {
     "name": "stdout",
     "output_type": "stream",
     "text": [
      "Accuracy: 0.8545\n",
      "Training model with n_estimators=150, learning_rate=0.2, max_depth=7\n"
     ]
    },
    {
     "name": "stderr",
     "output_type": "stream",
     "text": [
      "c:\\Users\\HP\\AppData\\Local\\Programs\\Python\\Python310\\lib\\site-packages\\xgboost\\core.py:158: UserWarning: [20:17:28] WARNING: C:\\buildkite-agent\\builds\\buildkite-windows-cpu-autoscaling-group-i-0c55ff5f71b100e98-1\\xgboost\\xgboost-ci-windows\\src\\learner.cc:740: \n",
      "Parameters: { \"use_label_encoder\" } are not used.\n",
      "\n",
      "  warnings.warn(smsg, UserWarning)\n"
     ]
    },
    {
     "name": "stdout",
     "output_type": "stream",
     "text": [
      "Accuracy: 0.8473\n",
      "\n",
      "Best Hyperparameters: {'n_estimators': 150, 'learning_rate': 0.2, 'max_depth': 3}\n",
      "Best Accuracy: 0.8562\n",
      "Final Model Accuracy: 0.85625\n",
      "Classification Report:\n",
      "              precision    recall  f1-score   support\n",
      "\n",
      "           0       0.80      0.90      0.84       173\n",
      "           1       0.81      0.84      0.83       154\n",
      "           2       1.00      1.00      1.00       157\n",
      "           3       1.00      1.00      1.00       180\n",
      "           4       0.78      0.90      0.83       151\n",
      "           5       0.87      0.75      0.80       155\n",
      "           6       0.71      0.57      0.63       150\n",
      "\n",
      "    accuracy                           0.86      1120\n",
      "   macro avg       0.85      0.85      0.85      1120\n",
      "weighted avg       0.86      0.86      0.85      1120\n",
      "\n"
     ]
    }
   ],
   "source": [
    "import pandas as pd\n",
    "import numpy as np\n",
    "from xgboost import XGBClassifier\n",
    "from sklearn.metrics import accuracy_score, classification_report\n",
    "\n",
    "# 1. Load Dataset\n",
    "def load_data(file_path):\n",
    "    \"\"\"\n",
    "    Function to load the dataset from a CSV file into a Pandas DataFrame.\n",
    "    Args:\n",
    "    - file_path: The path to the CSV file containing the dataset.\n",
    "    \n",
    "    Returns:\n",
    "    - df: A Pandas DataFrame containing the dataset.\n",
    "    \"\"\"\n",
    "    return pd.read_csv(file_path)\n",
    "\n",
    "# 2. Custom Data Preprocessing\n",
    "def custom_label_encoder(df, columns):\n",
    "    \"\"\"\n",
    "    Function to manually encode categorical columns into numerical values.\n",
    "    For each categorical column, the unique values are mapped to integer labels.\n",
    "    \n",
    "    Args:\n",
    "    - df: The Pandas DataFrame containing the dataset.\n",
    "    - columns: A list of column names to be encoded.\n",
    "    \n",
    "    Returns:\n",
    "    - df: The DataFrame with encoded columns.\n",
    "    - label_encoders: A dictionary containing mappings of categorical values to integers for each column.\n",
    "    \"\"\"\n",
    "    label_encoders = {}  # Dictionary to store the label encoders for each column\n",
    "    \n",
    "    for col in columns:\n",
    "        # Get unique values in the categorical column\n",
    "        unique_values = df[col].unique()\n",
    "        \n",
    "        # Create a mapping of unique values to integers\n",
    "        label_map = {value: idx for idx, value in enumerate(unique_values)}\n",
    "        \n",
    "        # Map the original values in the column to the new integer labels\n",
    "        df[col] = df[col].map(label_map)\n",
    "        \n",
    "        # Store the label map in the dictionary for reference\n",
    "        label_encoders[col] = label_map\n",
    "    \n",
    "    return df, label_encoders\n",
    "\n",
    "def custom_standard_scaler(df, columns):\n",
    "    \"\"\"\n",
    "    Function to manually standardize numerical columns to have zero mean and unit variance.\n",
    "    \n",
    "    Args:\n",
    "    - df: The Pandas DataFrame containing the dataset.\n",
    "    - columns: A list of numerical column names to be scaled.\n",
    "    \n",
    "    Returns:\n",
    "    - df: The DataFrame with scaled numerical columns.\n",
    "    \"\"\"\n",
    "    for col in columns:\n",
    "        # Calculate the mean and standard deviation of the column\n",
    "        mean = df[col].mean()\n",
    "        std = df[col].std()\n",
    "        \n",
    "        # Apply the standardization formula (z = (x - mean) / std)\n",
    "        df[col] = (df[col] - mean) / std\n",
    "    \n",
    "    return df\n",
    "\n",
    "# 3. Manual Train-Test Split\n",
    "def custom_train_test_split(df, target_column, test_size=0.2):\n",
    "    \"\"\"\n",
    "    Function to manually split the dataset into training and testing sets.\n",
    "    The function shuffles the dataset and then splits it into training and testing based on the test size.\n",
    "    \n",
    "    Args:\n",
    "    - df: The DataFrame containing the dataset.\n",
    "    - target_column: The column name containing the target variable (the label to predict).\n",
    "    - test_size: The fraction of the dataset to be used as the test set (default is 20%).\n",
    "    \n",
    "    Returns:\n",
    "    - X_train: The features of the training data.\n",
    "    - X_test: The features of the testing data.\n",
    "    - y_train: The target values of the training data.\n",
    "    - y_test: The target values of the testing data.\n",
    "    \"\"\"\n",
    "    # Shuffle the dataset randomly\n",
    "    shuffled_df = df.sample(frac=1, random_state=42).reset_index(drop=True)\n",
    "    \n",
    "    # Calculate the split index based on the test_size\n",
    "    split_idx = int(len(shuffled_df) * (1 - test_size))\n",
    "    \n",
    "    # Split the data into training and testing sets\n",
    "    train_df = shuffled_df[:split_idx]\n",
    "    test_df = shuffled_df[split_idx:]\n",
    "    \n",
    "    # Separate the features (X) and target (y) for both training and testing sets\n",
    "    X_train = train_df.drop(target_column, axis=1)\n",
    "    y_train = train_df[target_column]\n",
    "    X_test = test_df.drop(target_column, axis=1)\n",
    "    y_test = test_df[target_column]\n",
    "    \n",
    "    return X_train, X_test, y_train, y_test\n",
    "\n",
    "# 4. Train and Evaluate Model with Manual Hyperparameter Tuning\n",
    "def manual_hyperparameter_tuning(X_train, X_test, y_train, y_test):\n",
    "    \"\"\"\n",
    "    Function to manually tune the hyperparameters of an XGBoost classifier.\n",
    "    It evaluates different combinations of hyperparameters and selects the best model based on accuracy.\n",
    "    \n",
    "    Args:\n",
    "    - X_train: The features of the training data.\n",
    "    - X_test: The features of the testing data.\n",
    "    - y_train: The target values of the training data.\n",
    "    - y_test: The target values of the testing data.\n",
    "    \n",
    "    Returns:\n",
    "    - best_model: The best XGBoost model after tuning.\n",
    "    \"\"\"\n",
    "    best_accuracy = 0  # Variable to store the best accuracy\n",
    "    best_params = None  # Variable to store the best hyperparameters\n",
    "    best_model = None  # Variable to store the best model\n",
    "    \n",
    "    # Define the hyperparameter ranges to tune\n",
    "    n_estimators_range = [50, 100, 150]  # Number of boosting rounds\n",
    "    learning_rate_range = [0.01, 0.1, 0.2]  # Learning rate\n",
    "    max_depth_range = [3, 5, 7]  # Maximum depth of each tree\n",
    "    \n",
    "    # Loop through all combinations of hyperparameters\n",
    "    for n_estimators in n_estimators_range:\n",
    "        for learning_rate in learning_rate_range:\n",
    "            for max_depth in max_depth_range:\n",
    "                print(f\"Training model with n_estimators={n_estimators}, learning_rate={learning_rate}, max_depth={max_depth}\")\n",
    "                \n",
    "                # Train the XGBoost model with the current combination of hyperparameters\n",
    "                model = XGBClassifier(\n",
    "                    n_estimators=n_estimators,\n",
    "                    learning_rate=learning_rate,\n",
    "                    max_depth=max_depth,\n",
    "                    random_state=42,\n",
    "                    use_label_encoder=False,\n",
    "                    eval_metric=\"mlogloss\"\n",
    "                )\n",
    "                model.fit(X_train, y_train)\n",
    "                \n",
    "                # Make predictions on the test data\n",
    "                y_pred = model.predict(X_test)\n",
    "                \n",
    "                # Calculate accuracy of the model\n",
    "                accuracy = accuracy_score(y_test, y_pred)\n",
    "                \n",
    "                print(f\"Accuracy: {accuracy:.4f}\")\n",
    "                \n",
    "                # If the current model's accuracy is better, update the best model and parameters\n",
    "                if accuracy > best_accuracy:\n",
    "                    best_accuracy = accuracy\n",
    "                    best_params = {\n",
    "                        \"n_estimators\": n_estimators,\n",
    "                        \"learning_rate\": learning_rate,\n",
    "                        \"max_depth\": max_depth\n",
    "                    }\n",
    "                    best_model = model\n",
    "    \n",
    "    print(\"\\nBest Hyperparameters:\", best_params)\n",
    "    print(f\"Best Accuracy: {best_accuracy:.4f}\")\n",
    "    return best_model\n",
    "\n",
    "# 5. Evaluate the Final Model\n",
    "def evaluate_model(model, X_test, y_test):\n",
    "    \"\"\"\n",
    "    Function to evaluate the final trained model on the test data.\n",
    "    It calculates accuracy and provides a detailed classification report.\n",
    "    \n",
    "    Args:\n",
    "    - model: The trained model to be evaluated.\n",
    "    - X_test: The features of the testing data.\n",
    "    - y_test: The target values of the testing data.\n",
    "    \"\"\"\n",
    "    # Make predictions on the test data\n",
    "    y_pred = model.predict(X_test)\n",
    "    \n",
    "    # Print the accuracy of the final model\n",
    "    print(\"Final Model Accuracy:\", accuracy_score(y_test, y_pred))\n",
    "    \n",
    "    # Print the classification report with precision, recall, and F1-score\n",
    "    print(\"Classification Report:\")\n",
    "    print(classification_report(y_test, y_pred))\n",
    "\n",
    "# 6. Main Function\n",
    "def main():\n",
    "    \"\"\"\n",
    "    Main function that orchestrates the entire pipeline:\n",
    "    - Loads the data\n",
    "    - Preprocesses the data\n",
    "    - Splits the data\n",
    "    - Tunes the model hyperparameters\n",
    "    - Evaluates the final model.\n",
    "    \"\"\"\n",
    "    # File path to your dataset\n",
    "    file_path = \"./data/combined_output1.csv\"  # Update with your dataset file name\n",
    "    \n",
    "    # Load and preprocess the dataset\n",
    "    df = load_data(file_path)\n",
    "    \n",
    "    # Step 1: Manually encode categorical columns\n",
    "    categorical_columns = [\"state\", \"state_name\", \"disease\"]\n",
    "    df, label_encoders = custom_label_encoder(df, categorical_columns)\n",
    "    \n",
    "    # Step 2: Manually scale numerical features\n",
    "    numerical_columns = [\"cases\", \"incidence_per_capita\"]\n",
    "    df = custom_standard_scaler(df, numerical_columns)\n",
    "    \n",
    "    # Split data into training and testing sets\n",
    "    target_column = \"disease\"  # Column to predict\n",
    "    X_train, X_test, y_train, y_test = custom_train_test_split(df, target_column)\n",
    "    \n",
    "    # Perform manual hyperparameter tuning\n",
    "    best_model = manual_hyperparameter_tuning(X_train, X_test, y_train, y_test)\n",
    "    \n",
    "    # Evaluate the final model\n",
    "    evaluate_model(best_model, X_test, y_test)\n",
    "\n",
    "# Run the pipeline\n",
    "if __name__ == \"__main__\":\n",
    "    main()"
   ]
  }
 ],
 "metadata": {
  "kernelspec": {
   "display_name": "Python 3",
   "language": "python",
   "name": "python3"
  },
  "language_info": {
   "codemirror_mode": {
    "name": "ipython",
    "version": 3
   },
   "file_extension": ".py",
   "mimetype": "text/x-python",
   "name": "python",
   "nbconvert_exporter": "python",
   "pygments_lexer": "ipython3",
   "version": "3.10.11"
  }
 },
 "nbformat": 4,
 "nbformat_minor": 2
}
